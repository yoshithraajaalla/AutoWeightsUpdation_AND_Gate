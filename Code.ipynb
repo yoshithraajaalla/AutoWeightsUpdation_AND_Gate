{
  "cells": [
    {
      "cell_type": "code",
      "execution_count": 1,
      "metadata": {
        "id": "zuvPQm02n7n4"
      },
      "outputs": [],
      "source": [
        "#import packages\n",
        "import numpy as np\n",
        "from matplotlib import pyplot as plt"
      ]
    },
    {
      "cell_type": "code",
      "execution_count": 2,
      "metadata": {
        "id": "ozaFqgXJo-cV"
      },
      "outputs": [],
      "source": [
        "#summation function\n",
        "def summation(xr,wt):\n",
        "  return np.dot(xr,wt)\n",
        "\n",
        "#activation funtion\n",
        "def activation(sumprod, thres_hold):\n",
        "  if sumprod >= thres_hold:\n",
        "    return 1\n",
        "  else:\n",
        "    return 0\n",
        "\n",
        "#weights updation function\n",
        "def fit(X,y,weights,lrate,epochs,thres_hold):\n",
        "  for epochs in range(epochs+1):\n",
        "    hits = 0\n",
        "    for index in range(len(X)):\n",
        "      x = X[index]\n",
        "      sum_val = summation(x, weights)\n",
        "      pred = activation(sum_val, thres_hold)\n",
        "      if y[index] == pred:\n",
        "        hits += 1\n",
        "        continue\n",
        "      else:\n",
        "        error = y[index] - pred\n",
        "        for j in range(len(x)):\n",
        "          weights[j]=weights[j]+lrate*error*x[j]\n",
        "    if hits == len(y):\n",
        "      print(\"Hits =\", hits)\n",
        "      print(\"Epochs =\", epochs)\n",
        "      break\n",
        "  print(\"Weights =\",weights)\n",
        "  return weights"
      ]
    },
    {
      "cell_type": "code",
      "execution_count": 3,
      "metadata": {
        "id": "HKwOv61ev_vd"
      },
      "outputs": [],
      "source": [
        "#driver\n",
        "X = np.array([[0,0],[0,1],[1,0],[1,1]])\n",
        "y = np.array([0,0,0,1])\n",
        "\n",
        "w = np.array([0.0 , 0.0])\n",
        "\n",
        "epochs = 100\n",
        "threshold = 1\n",
        "lrate = 0.01"
      ]
    },
    {
      "cell_type": "code",
      "execution_count": 4,
      "metadata": {
        "colab": {
          "base_uri": "https://localhost:8080/"
        },
        "id": "i3LrkM_qwpFV",
        "outputId": "57091e58-8f62-45d2-cfa9-34af4144e4d7"
      },
      "outputs": [
        {
          "name": "stdout",
          "output_type": "stream",
          "text": [
            "Hits = 4\n",
            "Epochs = 50\n",
            "Weights = [0.5 0.5]\n"
          ]
        }
      ],
      "source": [
        "wt = fit(X,y,w,lrate,epochs,threshold)"
      ]
    },
    {
      "cell_type": "code",
      "execution_count": 5,
      "metadata": {
        "colab": {
          "base_uri": "https://localhost:8080/",
          "height": 435
        },
        "id": "SJZX2rS302cF",
        "outputId": "2a9c7af0-4ee2-4eba-ff79-2feff2269fe0"
      },
      "outputs": [
        {
          "data": {
            "image/png": "[encoded data removed]",
            "text/plain": [
              "<Figure size 640x480 with 1 Axes>"
            ]
          },
          "metadata": {},
          "output_type": "display_data"
        }
      ],
      "source": [
        "#graph\n",
        "slope = -wt[0]/wt[1]\n",
        "intercept = (threshold - 0.2)/wt[1]\n",
        "\n",
        "x_plane = np.linspace(-3,3,100)\n",
        "y_plane = slope * x_plane + intercept\n",
        "\n",
        "plt.scatter(X[:,0],X[:,1],c=y)\n",
        "plt.plot(x_plane, y_plane, '-')\n",
        "plt.xlim([-1,2])\n",
        "plt.ylim([-1,2])\n",
        "plt.show()"
      ]
    },
    {
      "cell_type": "code",
      "execution_count": null,
      "metadata": {},
      "outputs": [],
      "source": []
    }
  ],
  "metadata": {
    "colab": {
      "provenance": []
    },
    "kernelspec": {
      "display_name": "Python 3",
      "name": "python3"
    },
    "language_info": {
      "codemirror_mode": {
        "name": "ipython",
        "version": 3
      },
      "file_extension": ".py",
      "mimetype": "text/x-python",
      "name": "python",
      "nbconvert_exporter": "python",
      "pygments_lexer": "ipython3",
      "version": "3.11.1"
    }
  },
  "nbformat": 4,
  "nbformat_minor": 0
}
